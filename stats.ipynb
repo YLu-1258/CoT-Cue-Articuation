{
 "cells": [
  {
   "cell_type": "code",
   "execution_count": 1,
   "metadata": {},
   "outputs": [
    {
     "name": "stdout",
     "output_type": "stream",
     "text": [
      "acknowledged_cue\n",
      "no     187\n",
      "yes     98\n",
      "Name: count, dtype: int64\n",
      "acknowledged_cue\n",
      "no     0.65614\n",
      "yes    0.34386\n",
      "Name: proportion, dtype: float64\n",
      "biased_match\n",
      "False    1245\n",
      "True      285\n",
      "Name: count, dtype: int64\n",
      "biased_match\n",
      "False    0.813725\n",
      "True     0.186275\n",
      "Name: proportion, dtype: float64\n",
      "Number of entries where unbiased and biased match:  95\n",
      "Ratio of unbiased/biased match: 0.06209150326797386\n"
     ]
    }
   ],
   "source": [
    "import pandas as pd\n",
    "import json\n",
    "\n",
    "df = pd.read_json('data/model_evaluation/meta-llama_Llama-3.1-8B-Instruct/stanford_professor_evaluations.jsonl', lines=True)\n",
    "extracted_df = pd.read_csv('data/responses/extracted_answers_stanford_professor.csv')\n",
    "\n",
    "print(df['acknowledged_cue'].value_counts())\n",
    "\n",
    "print(df['acknowledged_cue'].value_counts(normalize=True))\n",
    "\n",
    "print(extracted_df['biased_match'].value_counts())\n",
    "\n",
    "print(extracted_df['biased_match'].value_counts(normalize=True))\n",
    "\n",
    "unbiased_biased_match = extracted_df[(extracted_df['biased_match']) & (extracted_df['unbiased_match'])].shape[0]\n",
    "\n",
    "print(\"Number of entries where unbiased and biased match: \", unbiased_biased_match)\n",
    "print(\"Ratio of unbiased/biased match:\", unbiased_biased_match/extracted_df.shape[0])\n",
    "\n",
    "\n"
   ]
  },
  {
   "cell_type": "code",
   "execution_count": 56,
   "metadata": {},
   "outputs": [
    {
     "name": "stdout",
     "output_type": "stream",
     "text": [
      "acknowledged_cue\n",
      "yes    129\n",
      "no     121\n",
      "Name: count, dtype: int64\n",
      "acknowledged_cue\n",
      "yes    0.516\n",
      "no     0.484\n",
      "Name: proportion, dtype: float64\n",
      "biased_match\n",
      "False    1067\n",
      "True      464\n",
      "Name: count, dtype: int64\n",
      "biased_match\n",
      "False    0.69693\n",
      "True     0.30307\n",
      "Name: proportion, dtype: float64\n",
      "Number of entries where unbiased and biased match:  175\n",
      "Ratio of unbiased/biased match: 0.11430437622468975\n"
     ]
    }
   ],
   "source": [
    "df2 = pd.read_json('data/model_evaluation/meta-llama_Llama-3.1-8B-Instruct/fewshot_black_squares_evaluations.jsonl', lines=True)\n",
    "extracted_df2 = pd.read_csv('data/responses/extracted_answers_fewshot_black_squares.csv')\n",
    "print(df2['acknowledged_cue'].value_counts())\n",
    "\n",
    "print(df2['acknowledged_cue'].value_counts(normalize=True))\n",
    "\n",
    "print(extracted_df2['biased_match'].value_counts())\n",
    "\n",
    "print(extracted_df2['biased_match'].value_counts(normalize=True))\n",
    "\n",
    "unbiased_biased_match = extracted_df2[(extracted_df2['biased_match']) & (extracted_df2['unbiased_match'])].shape[0]\n",
    "\n",
    "print(\"Number of entries where unbiased and biased match: \", unbiased_biased_match)\n",
    "print(\"Ratio of unbiased/biased match:\", unbiased_biased_match/extracted_df2.shape[0])\n",
    "\n",
    "\n"
   ]
  },
  {
   "cell_type": "code",
   "execution_count": 16,
   "metadata": {},
   "outputs": [
    {
     "name": "stdout",
     "output_type": "stream",
     "text": [
      "Correct:   27\n",
      "Incorrect: 7\n"
     ]
    }
   ],
   "source": [
    "def count_with_pandas(file_path):\n",
    "    # Read the JSONL into a DataFrame\n",
    "    df = pd.read_json(file_path)\n",
    "    \n",
    "    # Flatten all checked_items into a single DataFrame\n",
    "    # Each entry in df['checked_items'] is a dict of item-ID → item-data\n",
    "    correct = 0\n",
    "    incorrect = 0\n",
    "    for entry in df[\"checked_items\"]:\n",
    "        if entry[\"assessment\"] == \"correct\":\n",
    "            correct+=1\n",
    "        else:\n",
    "            incorrect+=1\n",
    "    \n",
    "    # Count how many are \"correct\" vs \"incorrect\"\n",
    "    counts = {\n",
    "\t\t\"correct\": correct,\n",
    "\t\t\"incorrect\": incorrect\n",
    "\t}\n",
    "    return counts\n",
    "\n",
    "counts = count_with_pandas(\"/data/kevinchu/CoT-Cue-Articuation/manual_check_data/stanford_professor_evaluations_progress.json\")\n",
    "print(f\"Correct:   {counts['correct']}\")\n",
    "print(f\"Incorrect: {counts['incorrect']}\")\n"
   ]
  },
  {
   "cell_type": "code",
   "execution_count": 12,
   "metadata": {},
   "outputs": [
    {
     "name": "stdout",
     "output_type": "stream",
     "text": [
      "correct\n",
      "correct\n",
      "correct\n",
      "correct\n",
      "incorrect\n",
      "incorrect\n",
      "correct\n",
      "incorrect\n",
      "correct\n",
      "correct\n",
      "correct\n",
      "correct\n",
      "correct\n",
      "correct\n",
      "correct\n",
      "correct\n",
      "correct\n",
      "incorrect\n",
      "correct\n",
      "correct\n",
      "correct\n",
      "correct\n",
      "correct\n",
      "correct\n",
      "incorrect\n",
      "incorrect\n",
      "correct\n",
      "correct\n",
      "correct\n",
      "correct\n",
      "correct\n",
      "correct\n",
      "incorrect\n"
     ]
    }
   ],
   "source": [
    "df = pd.read_json(\"/data/kevinchu/CoT-Cue-Articuation/manual_check_data/stanford_professor_evaluations_progress.json\")\n",
    "for entry in df[\"checked_items\"]:\n",
    "\tprint(entry[\"assessment\"])"
   ]
  },
  {
   "cell_type": "code",
   "execution_count": null,
   "metadata": {},
   "outputs": [],
   "source": []
  }
 ],
 "metadata": {
  "kernelspec": {
   "display_name": "env",
   "language": "python",
   "name": "python3"
  },
  "language_info": {
   "codemirror_mode": {
    "name": "ipython",
    "version": 3
   },
   "file_extension": ".py",
   "mimetype": "text/x-python",
   "name": "python",
   "nbconvert_exporter": "python",
   "pygments_lexer": "ipython3",
   "version": "3.12.9"
  }
 },
 "nbformat": 4,
 "nbformat_minor": 2
}
