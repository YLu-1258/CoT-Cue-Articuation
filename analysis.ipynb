{
 "cells": [
  {
   "cell_type": "code",
   "execution_count": 6,
   "id": "59ada335",
   "metadata": {},
   "outputs": [],
   "source": [
    "import pandas as pd\n",
    "\n",
    "stanford_professor = pd.read_json('data/responses/raw/stanford_professor_responses.jsonl', lines=True)"
   ]
  },
  {
   "cell_type": "code",
   "execution_count": 11,
   "id": "d49eb82a",
   "metadata": {},
   "outputs": [
    {
     "data": {
      "text/plain": [
       "False"
      ]
     },
     "execution_count": 11,
     "metadata": {},
     "output_type": "execute_result"
    }
   ],
   "source": [
    "example = stanford_professor[stanford_professor['question_id'] == 169]\n",
    "\n",
    "'</think>' in example['biased_response'].values[0]"
   ]
  }
 ],
 "metadata": {
  "kernelspec": {
   "display_name": "Python 3",
   "language": "python",
   "name": "python3"
  },
  "language_info": {
   "codemirror_mode": {
    "name": "ipython",
    "version": 3
   },
   "file_extension": ".py",
   "mimetype": "text/x-python",
   "name": "python",
   "nbconvert_exporter": "python",
   "pygments_lexer": "ipython3",
   "version": "3.13.2"
  }
 },
 "nbformat": 4,
 "nbformat_minor": 5
}
