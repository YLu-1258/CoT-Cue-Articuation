{
 "cells": [
  {
   "cell_type": "code",
   "execution_count": 6,
   "metadata": {},
   "outputs": [
    {
     "name": "stdout",
     "output_type": "stream",
     "text": [
      "acknowledged_cue\n",
      "yes    228\n",
      "no     135\n",
      "Name: count, dtype: int64\n",
      "acknowledged_cue\n",
      "yes    0.628099\n",
      "no     0.371901\n",
      "Name: proportion, dtype: float64\n"
     ]
    }
   ],
   "source": [
    "import pandas as pd\n",
    "\n",
    "df = pd.read_json('data/model_evaluation/stanford_professor_evaluations.jsonl', lines=True)\n",
    "\n",
    "print(df['acknowledged_cue'].value_counts())\n",
    "\n",
    "print(df['acknowledged_cue'].value_counts(normalize=True))"
   ]
  },
  {
   "cell_type": "code",
   "execution_count": 8,
   "metadata": {},
   "outputs": [
    {
     "name": "stdout",
     "output_type": "stream",
     "text": [
      "acknowledged_cue\n",
      "yes    366\n",
      "no      98\n",
      "Name: count, dtype: int64\n",
      "acknowledged_cue\n",
      "yes    0.788793\n",
      "no     0.211207\n",
      "Name: proportion, dtype: float64\n"
     ]
    }
   ],
   "source": [
    "df2 = pd.read_json('data/model_evaluation/fewshot_black_squares_evaluations.jsonl', lines=True)\n",
    "\n",
    "print(df2['acknowledged_cue'].value_counts())\n",
    "\n",
    "print(df2['acknowledged_cue'].value_counts(normalize=True))"
   ]
  }
 ],
 "metadata": {
  "kernelspec": {
   "display_name": "base",
   "language": "python",
   "name": "python3"
  },
  "language_info": {
   "codemirror_mode": {
    "name": "ipython",
    "version": 3
   },
   "file_extension": ".py",
   "mimetype": "text/x-python",
   "name": "python",
   "nbconvert_exporter": "python",
   "pygments_lexer": "ipython3",
   "version": "3.13.2"
  }
 },
 "nbformat": 4,
 "nbformat_minor": 2
}
