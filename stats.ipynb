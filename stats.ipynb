{
 "cells": [
  {
   "cell_type": "code",
   "execution_count": 55,
   "metadata": {},
   "outputs": [
    {
     "name": "stdout",
     "output_type": "stream",
     "text": [
      "acknowledged_cue\n",
      "yes    141\n",
      "no     110\n",
      "Name: count, dtype: int64\n",
      "acknowledged_cue\n",
      "yes    0.561753\n",
      "no     0.438247\n",
      "Name: proportion, dtype: float64\n",
      "biased_match\n",
      "False    1168\n",
      "True      363\n",
      "Name: count, dtype: int64\n",
      "biased_match\n",
      "False    0.7629\n",
      "True     0.2371\n",
      "Name: proportion, dtype: float64\n",
      "Number of entries where unbiased and biased match:  138\n",
      "Ratio of unbiased/biased match: 0.09013716525146963\n"
     ]
    }
   ],
   "source": [
    "import pandas as pd\n",
    "\n",
    "df = pd.read_json('data/model_evaluation/meta-llama_Llama-3.1-8B-Instruct/stanford_professor_evaluations.jsonl', lines=True)\n",
    "extracted_df = pd.read_csv('data/responses/extracted_answers_stanford_professor.csv')\n",
    "print(df['acknowledged_cue'].value_counts())\n",
    "\n",
    "print(df['acknowledged_cue'].value_counts(normalize=True))\n",
    "\n",
    "print(extracted_df['biased_match'].value_counts())\n",
    "\n",
    "print(extracted_df['biased_match'].value_counts(normalize=True))\n",
    "\n",
    "unbiased_biased_match = extracted_df[(extracted_df['biased_match']) & (extracted_df['unbiased_match'])].shape[0]\n",
    "\n",
    "print(\"Number of entries where unbiased and biased match: \", unbiased_biased_match)\n",
    "print(\"Ratio of unbiased/biased match:\", unbiased_biased_match/extracted_df.shape[0])\n",
    "\n",
    "\n"
   ]
  },
  {
   "cell_type": "code",
   "execution_count": 56,
   "metadata": {},
   "outputs": [
    {
     "name": "stdout",
     "output_type": "stream",
     "text": [
      "acknowledged_cue\n",
      "yes    129\n",
      "no     121\n",
      "Name: count, dtype: int64\n",
      "acknowledged_cue\n",
      "yes    0.516\n",
      "no     0.484\n",
      "Name: proportion, dtype: float64\n",
      "biased_match\n",
      "False    1067\n",
      "True      464\n",
      "Name: count, dtype: int64\n",
      "biased_match\n",
      "False    0.69693\n",
      "True     0.30307\n",
      "Name: proportion, dtype: float64\n",
      "Number of entries where unbiased and biased match:  175\n",
      "Ratio of unbiased/biased match: 0.11430437622468975\n"
     ]
    }
   ],
   "source": [
    "df2 = pd.read_json('data/model_evaluation/meta-llama_Llama-3.1-8B-Instruct/fewshot_black_squares_evaluations.jsonl', lines=True)\n",
    "extracted_df2 = pd.read_csv('data/responses/extracted_answers_fewshot_black_squares.csv')\n",
    "print(df2['acknowledged_cue'].value_counts())\n",
    "\n",
    "print(df2['acknowledged_cue'].value_counts(normalize=True))\n",
    "\n",
    "print(extracted_df2['biased_match'].value_counts())\n",
    "\n",
    "print(extracted_df2['biased_match'].value_counts(normalize=True))\n",
    "\n",
    "unbiased_biased_match = extracted_df2[(extracted_df2['biased_match']) & (extracted_df2['unbiased_match'])].shape[0]\n",
    "\n",
    "print(\"Number of entries where unbiased and biased match: \", unbiased_biased_match)\n",
    "print(\"Ratio of unbiased/biased match:\", unbiased_biased_match/extracted_df2.shape[0])\n",
    "\n",
    "\n"
   ]
  }
 ],
 "metadata": {
  "kernelspec": {
   "display_name": "base",
   "language": "python",
   "name": "python3"
  },
  "language_info": {
   "codemirror_mode": {
    "name": "ipython",
    "version": 3
   },
   "file_extension": ".py",
   "mimetype": "text/x-python",
   "name": "python",
   "nbconvert_exporter": "python",
   "pygments_lexer": "ipython3",
   "version": "3.13.2"
  }
 },
 "nbformat": 4,
 "nbformat_minor": 2
}
